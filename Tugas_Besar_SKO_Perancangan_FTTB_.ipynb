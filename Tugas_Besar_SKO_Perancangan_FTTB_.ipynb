{
  "nbformat": 4,
  "nbformat_minor": 0,
  "metadata": {
    "colab": {
      "name": "Tugas Besar SKO Perancangan FTTB .ipynb",
      "provenance": [],
      "collapsed_sections": [],
      "authorship_tag": "ABX9TyOdp8H51tFRVfy3IAkzBuYl",
      "include_colab_link": true
    },
    "kernelspec": {
      "name": "python3",
      "display_name": "Python 3"
    }
  },
  "cells": [
    {
      "cell_type": "markdown",
      "metadata": {
        "id": "view-in-github",
        "colab_type": "text"
      },
      "source": [
        "<a href=\"https://colab.research.google.com/github/alfinbakti1/project1/blob/master/Tugas_Besar_SKO_Perancangan_FTTB_.ipynb\" target=\"_parent\"><img src=\"https://colab.research.google.com/assets/colab-badge.svg\" alt=\"Open In Colab\"/></a>"
      ]
    },
    {
      "cell_type": "markdown",
      "metadata": {
        "id": "_O1sDGHT8MxL"
      },
      "source": [
        ""
      ]
    },
    {
      "cell_type": "code",
      "metadata": {
        "id": "koEpv_yCyVph"
      },
      "source": [
        "import numpy as np\r\n",
        "import matplotlib.pyplot as plt\r\n",
        "import math as m"
      ],
      "execution_count": 581,
      "outputs": []
    },
    {
      "cell_type": "code",
      "metadata": {
        "id": "7CKLLkPR6m9f"
      },
      "source": [
        "#Parameter \r\n",
        "Pt = 3 #dbm Daya Keluaran sumber optik(OLT)\r\n",
        "SM =  6 #safety margin 6 dB\r\n",
        "R = 0.85 # Responsivitas (A/W)\r\n",
        "M = -0.1 #Tambahan daya sinyal APD (dB)\r\n",
        "q = 1.6*10**-19\r\n",
        "K = 1.38 * 10**-23 #Konstanta Boltzman\r\n",
        "Teff= 290 #Kelvin\r\n",
        "B = 10* 10**9 # Bandwith 7 Ghz \r\n",
        "Req = 50 # Resistensi Ekivalensi\r\n",
        "id = 80*10**-9 #Arus gelap(A)\r\n",
        "F = 2 #F(M), Faktor Gain\r\n",
        "\r\n",
        "\r\n",
        "#Perhitungan jarak\r\n",
        "#Jarak dari OLT Ke odc = 8 km\r\n",
        "#Jarak odc ke Odp =  100 m\r\n",
        "#Jarak odp ke ont = 66 m \r\n",
        "#Jarak Total = 8000 + 166 = 8166 m\r\n",
        "L = np.arange(0.166,8.166,1) #Km\r\n",
        "Ns = 3 #jumlah sambungan\r\n",
        "Nc = 6 #jumlah konektor\r\n",
        "Sp = 3.5 + 15.5 #jenis PS 1:2 1:32\r\n",
        "Ac = 0.3 #redaman konektor(dB/buah)\r\n",
        "As = 0.1 #redaman dB/splice\r\n",
        "Aserat =  0.4 # redaman serat optic dB/Km G.652(1310/1490)\r\n",
        "\r\n",
        "#lambda\r\n",
        "NtL = lambda x: 10*np.log10(x)\r\n",
        "LtN = lambda x: 10**(x/10)"
      ],
      "execution_count": 582,
      "outputs": []
    },
    {
      "cell_type": "code",
      "metadata": {
        "colab": {
          "base_uri": "https://localhost:8080/"
        },
        "id": "anIqSoNr6q3G",
        "outputId": "22127366-4e3f-4e0b-ac67-f06d8e290c5d"
      },
      "source": [
        "#Rumus Pr\r\n",
        "def P_receiver():\r\n",
        "  hambatan_fiber = L * Aserat \r\n",
        "  hambatan_splicer = Ns * As\r\n",
        "  hambatan_connector = Nc * Ac\r\n",
        "  alfa_total  = hambatan_fiber+ hambatan_connector + hambatan_splicer  + Sp + SM\r\n",
        "  Pr = Pt - alfa_total\r\n",
        "  return Pr,alfa_total\r\n",
        "Pr,alfa_total = P_receiver()\r\n",
        "print(alfa_total)\r\n",
        "print(Pr)\r\n",
        "Prnum = LtN(Pr)\r\n",
        "print('Daya Terima = ', Prnum,'Watt')"
      ],
      "execution_count": 583,
      "outputs": [
        {
          "output_type": "stream",
          "text": [
            "[27.1664 27.5664 27.9664 28.3664 28.7664 29.1664 29.5664 29.9664]\n",
            "[-24.1664 -24.5664 -24.9664 -25.3664 -25.7664 -26.1664 -26.5664 -26.9664]\n",
            "Daya Terima =  [0.00383142 0.0034943  0.00318684 0.00290643 0.0026507  0.00241746\n",
            " 0.00220475 0.00201076] Watt\n"
          ],
          "name": "stdout"
        }
      ]
    },
    {
      "cell_type": "code",
      "metadata": {
        "colab": {
          "base_uri": "https://localhost:8080/"
        },
        "id": "lKZxFnp66vp0",
        "outputId": "d3a76350-e7de-4c83-fe0a-ecb583bda633"
      },
      "source": [
        "#Rumus Arus Primer\r\n",
        "def arus_primer():\r\n",
        "  ip = R * Prnum\r\n",
        "  return ip\r\n",
        "ip = arus_primer()\r\n",
        "print('Arus Primer = ',ip,'Watt')"
      ],
      "execution_count": 584,
      "outputs": [
        {
          "output_type": "stream",
          "text": [
            "Arus Primer =  [0.00325671 0.00297015 0.00270881 0.00247047 0.00225309 0.00205484\n",
            " 0.00187404 0.00170915] Watt\n"
          ],
          "name": "stdout"
        }
      ]
    },
    {
      "cell_type": "code",
      "metadata": {
        "colab": {
          "base_uri": "https://localhost:8080/"
        },
        "id": "fpf57WrE6xxM",
        "outputId": "13460689-b70d-4984-dbe3-df45581b393e"
      },
      "source": [
        "#RUMUS PERHITUNGAN SIGNAL POWER\r\n",
        "def signal_power():\r\n",
        "  sig = (ip*M)**2\r\n",
        "  return sig\r\n",
        "signal = signal_power()\r\n",
        "print('Signal = ',signal,'A')"
      ],
      "execution_count": 585,
      "outputs": [
        {
          "output_type": "stream",
          "text": [
            "Signal =  [1.06061521e-07 8.82181308e-08 7.33766451e-08 6.10320351e-08\n",
            " 5.07642356e-08 4.22238521e-08 3.51202704e-08 2.92117686e-08] A\n"
          ],
          "name": "stdout"
        }
      ]
    },
    {
      "cell_type": "code",
      "metadata": {
        "colab": {
          "base_uri": "https://localhost:8080/"
        },
        "id": "Gs2L9dHF60C9",
        "outputId": "8d13e00a-52b9-4696-d935-d94577f6fc70"
      },
      "source": [
        "#RUMUS PERHITUNGAN NOISE POWER\r\n",
        "def noise_power():\r\n",
        "  BDC = 2*q*id*B*(M**2)*F #Dark Current\r\n",
        "  SNC = 2*q*ip*B*(M**2)*F #Short Noise Current\r\n",
        "  NT =  (4*K*Teff*B)/Req #Derau Thermal\r\n",
        "  noi = BDC + SNC + NT\r\n",
        "  noise_rumus = BDC + SNC + NT\r\n",
        "  print(noise_rumus)\r\n",
        "  return noise_rumus\r\n",
        "noise = noise_power()\r\n",
        "print('Noise = ',noise,'A')"
      ],
      "execution_count": 586,
      "outputs": [
        {
          "output_type": "stream",
          "text": [
            "[3.41003448e-12 3.39169496e-12 3.37496911e-12 3.35971496e-12\n",
            " 3.34580301e-12 3.33311516e-12 3.32154370e-12 3.31099040e-12]\n",
            "Noise =  [3.41003448e-12 3.39169496e-12 3.37496911e-12 3.35971496e-12\n",
            " 3.34580301e-12 3.33311516e-12 3.32154370e-12 3.31099040e-12] A\n"
          ],
          "name": "stdout"
        }
      ]
    },
    {
      "cell_type": "code",
      "metadata": {
        "colab": {
          "base_uri": "https://localhost:8080/"
        },
        "id": "okGebCEI64Et",
        "outputId": "526b3582-7110-439f-d022-0affb1f47354"
      },
      "source": [
        "#RUMUS SNR\r\n",
        "def snr():\r\n",
        "  snr = signal/noise\r\n",
        "  snr_dB = NtL(snr)\r\n",
        "  return snr_dB\r\n",
        "SNR = snr()\r\n",
        "print('SNR = ',SNR,'dBm')"
      ],
      "execution_count": 587,
      "outputs": [
        {
          "output_type": "stream",
          "text": [
            "SNR =  [44.92799081 44.15141066 43.37288049 42.59255418 41.81057484 41.02707533\n",
            " 40.24217881 39.45599929] dBm\n"
          ],
          "name": "stdout"
        }
      ]
    },
    {
      "cell_type": "code",
      "metadata": {
        "colab": {
          "base_uri": "https://localhost:8080/"
        },
        "id": "Lgph1kWp689k",
        "outputId": "c38c3816-5882-4807-e17a-3714c0d5647d"
      },
      "source": [
        "#RUMUS Q\r\n",
        "def Q_rumus():\r\n",
        "  Q_rum = 0.5*(10**(SNR/20))\r\n",
        "  return Q_rum\r\n",
        "Q = Q_rumus()\r\n",
        "print(Q)"
      ],
      "execution_count": 588,
      "outputs": [
        {
          "output_type": "stream",
          "text": [
            "[88.17988838 80.63814657 73.72487227 67.39035023 61.58837514 56.27607125\n",
            " 51.41371014 46.96452876]\n"
          ],
          "name": "stdout"
        }
      ]
    },
    {
      "cell_type": "code",
      "metadata": {
        "colab": {
          "base_uri": "https://localhost:8080/"
        },
        "id": "YPEuDQTX6_c2",
        "outputId": "6d8074c9-a49c-44f1-8fec-d2d9f3dcb27d"
      },
      "source": [
        "#RUMUS BER\r\n",
        "kali_list = []\r\n",
        "def BER_rumus():\r\n",
        "  akr = (m.sqrt(2*m.pi) * Q)\r\n",
        "  #exp = (m.exp(Q/2)**2)/Q\r\n",
        "  #B= akr * exp\r\n",
        "  for i in range(len(Q)):\r\n",
        "    kali = m.exp(-(Q[i]/2)**2)\r\n",
        "    kali_list.append(kali)\r\n",
        "  B = (1/akr) * (kali_list)\r\n",
        "  return B\r\n",
        "B = BER_rumus()\r\n",
        "print(B)"
      ],
      "execution_count": 589,
      "outputs": [
        {
          "output_type": "stream",
          "text": [
            "[0.00000000e+000 0.00000000e+000 0.00000000e+000 0.00000000e+000\n",
            " 0.00000000e+000 0.00000000e+000 7.75576057e-290 2.83069131e-242]\n"
          ],
          "name": "stdout"
        }
      ]
    },
    {
      "cell_type": "code",
      "metadata": {
        "colab": {
          "base_uri": "https://localhost:8080/",
          "height": 1000
        },
        "id": "O5zZd3ZZ7EKr",
        "outputId": "9712f573-0abc-4f45-f400-f14c970b8e61"
      },
      "source": [
        "#GRAFIK\r\n",
        "def grafik_snr():\r\n",
        "  plt.figure()\r\n",
        "  plt.plot(L,SNR,'r')\r\n",
        "  plt.title('Perbandingan Jarak dengan SNR')\r\n",
        "  plt.xlabel('Jarak (Km)')\r\n",
        "  plt.ylabel('SNR (dB)')\r\n",
        "  plt.show()\r\n",
        "\r\n",
        "def grafik_Q():\r\n",
        "  plt.figure()\r\n",
        "  plt.plot(L,Q,'g')\r\n",
        "  plt.title('Perbandingan Jarak dengan Q')\r\n",
        "  plt.xlabel('Jarak (Km)')\r\n",
        "  plt.ylabel('Q')\r\n",
        "  plt.show()\r\n",
        "\r\n",
        "def grafik_BER():\r\n",
        "  plt.figure()\r\n",
        "  plt.plot(L,B,'b')\r\n",
        "  plt.title('Perbandingan Jarak dengan BER')\r\n",
        "  plt.xlabel('Jarak (Km)')\r\n",
        "  plt.ylabel('BER')\r\n",
        "  plt.show()\r\n",
        "\r\n",
        "def grafik_BER_SNR():\r\n",
        "  plt.figure()\r\n",
        "  plt.plot(SNR,B,'r')\r\n",
        "  plt.title('Perbandingan SNR dengan BER')\r\n",
        "  plt.xlabel('SNR(db)')\r\n",
        "  plt.ylabel('BER')\r\n",
        "  plt.show()\r\n",
        "\r\n",
        "grafik_snr()\r\n",
        "grafik_Q()\r\n",
        "grafik_BER()\r\n",
        "grafik_BER_SNR()"
      ],
      "execution_count": 590,
      "outputs": [
        {
          "output_type": "display_data",
          "data": {
            "image/png": "[encoded data removed]",
            "text/plain": [
              "<Figure size 432x288 with 1 Axes>"
            ]
          },
          "metadata": {
            "tags": [],
            "needs_background": "light"
          }
        },
        {
          "output_type": "display_data",
          "data": {
            "image/png": "[encoded data removed]",
            "text/plain": [
              "<Figure size 432x288 with 1 Axes>"
            ]
          },
          "metadata": {
            "tags": [],
            "needs_background": "light"
          }
        },
        {
          "output_type": "display_data",
          "data": {
            "image/png": "[encoded data removed]",
            "text/plain": [
              "<Figure size 432x288 with 1 Axes>"
            ]
          },
          "metadata": {
            "tags": [],
            "needs_background": "light"
          }
        },
        {
          "output_type": "display_data",
          "data": {
            "image/png": "[encoded data removed]",
            "text/plain": [
              "<Figure size 432x288 with 1 Axes>"
            ]
          },
          "metadata": {
            "tags": [],
            "needs_background": "light"
          }
        }
      ]
    },
    {
      "cell_type": "code",
      "metadata": {
        "id": "nJhGiMzF1rxR"
      },
      "source": [
        ""
      ],
      "execution_count": 590,
      "outputs": []
    }
  ]
}